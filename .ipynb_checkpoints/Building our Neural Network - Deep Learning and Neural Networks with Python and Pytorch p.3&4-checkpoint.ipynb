{
 "cells": [
  {
   "cell_type": "code",
   "execution_count": 1,
   "id": "cc0b4157",
   "metadata": {},
   "outputs": [],
   "source": [
    "import torch\n",
    "import torchvision\n",
    "from torchvision import transforms, datasets"
   ]
  },
  {
   "cell_type": "code",
   "execution_count": 4,
   "id": "b0e0f19c",
   "metadata": {},
   "outputs": [],
   "source": [
    "train = datasets.MNIST(\"\", train = True, download = True, transform = transforms.Compose([transforms.ToTensor()]))\n",
    "test = datasets.MNIST(\"\", train = False, download = True, transform = transforms.Compose([transforms.ToTensor()])) \n",
    "\n",
    "trainset = torch.utils.data.DataLoader(train, batch_size = 10, shuffle = True)\n",
    "testset = torch.utils.data.DataLoader(test, batch_size = 10, shuffle = True)"
   ]
  },
  {
   "cell_type": "code",
   "execution_count": 5,
   "id": "7fc3f292",
   "metadata": {},
   "outputs": [],
   "source": [
    "import torch.nn as nn\n",
    "import torch.nn.functional as F"
   ]
  },
  {
   "cell_type": "markdown",
   "id": "2c18f9ad",
   "metadata": {},
   "source": [
    "torch.nn has all the basic building blocks to build graphs.\n",
    "\n",
    "Next, we will build the class for neural networks."
   ]
  },
  {
   "cell_type": "code",
   "execution_count": 7,
   "id": "7a1fede2",
   "metadata": {},
   "outputs": [],
   "source": [
    "class Net(nn.Module):\n",
    "    def __init__(self):\n",
    "        super().__init__() # super corresponds to nn.module and it's just initializing nn.module and everything related to it\n",
    "        self.fc1 = nn.Linear(784, 64) #fc1 just means fully connected, 784 is 28*28 is the input which will be a flat row of pixels\n",
    "        # our target is to make a 3 layers of 64 neurons for hidden layers, which is the output\n",
    "        self.fc2 = nn.Linear(64, 64)\n",
    "        self.fc3 = nn.Linear(64, 64)\n",
    "        self.fc4 = nn.Linear(64, 10)\n",
    "        \n",
    "    def forward(slef, x): # for feed forward network with input x\n",
    "        x = F.relu(fc1(x)) # x will pass through fully connected layer 1, and we run the activation function over the entire layer\n",
    "        x = F.relu(fc2(x))\n",
    "        x = F.relu(fc3(x))\n",
    "        x = F.relu(fc4(x))\n",
    "        \n",
    "        return x"
   ]
  },
  {
   "cell_type": "markdown",
   "id": "053f82b5",
   "metadata": {},
   "source": [
    "### What is __init__ used for?\n",
    "\n",
    "### What is super() used for?\n",
    "\n"
   ]
  },
  {
   "cell_type": "markdown",
   "id": "72df9070",
   "metadata": {},
   "source": [
    "Now we can print and see the Net that we created"
   ]
  },
  {
   "cell_type": "code",
   "execution_count": 8,
   "id": "f8326133",
   "metadata": {},
   "outputs": [
    {
     "name": "stdout",
     "output_type": "stream",
     "text": [
      "Net(\n",
      "  (fc1): Linear(in_features=784, out_features=64, bias=True)\n",
      "  (fc2): Linear(in_features=64, out_features=64, bias=True)\n",
      "  (fc3): Linear(in_features=64, out_features=64, bias=True)\n",
      "  (fc4): Linear(in_features=64, out_features=10, bias=True)\n",
      ")\n"
     ]
    }
   ],
   "source": [
    "net = Net()\n",
    "\n",
    "print(net)"
   ]
  },
  {
   "cell_type": "markdown",
   "id": "bddfab3e",
   "metadata": {},
   "source": [
    "### Common Errors\n",
    "If we forgot to write super().\\_\\_init\\_\\_(), we will get the error: \"Attribute Error: cannot assign module before Module.\\_\\_init\\_\\_() call "
   ]
  },
  {
   "cell_type": "code",
   "execution_count": null,
   "id": "52cd71a7",
   "metadata": {},
   "outputs": [],
   "source": []
  }
 ],
 "metadata": {
  "kernelspec": {
   "display_name": "Python 3",
   "language": "python",
   "name": "python3"
  },
  "language_info": {
   "codemirror_mode": {
    "name": "ipython",
    "version": 3
   },
   "file_extension": ".py",
   "mimetype": "text/x-python",
   "name": "python",
   "nbconvert_exporter": "python",
   "pygments_lexer": "ipython3",
   "version": "3.8.8"
  }
 },
 "nbformat": 4,
 "nbformat_minor": 5
}
