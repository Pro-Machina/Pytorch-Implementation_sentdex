{
 "cells": [
  {
   "cell_type": "markdown",
   "id": "1d3c1877",
   "metadata": {},
   "source": [
    "# Convolutional Neural Networks\n",
    "In recent years, CNNs have shown to outperform RNNs in sequential data. How does CNN work?\n",
    "- You pass the image in it's full form (no flatening required)\n",
    "- It can take 2D and 3D or N-D as inputs\n",
    "- Next, convoolutions are applied to the image. These are the kernels that pass through the image to detect features.\n",
    "- It can be seen as basically condensing the image into features.\n",
    "- The next step is pooling, most common of that is max pooling which typically just takes the maximum value of the window/kernel.\n",
    "- You have multiple layers of such convolutions. The first layer might be finding the most basic features like curves, edges, corners. The next layer has curves, corners and edges to start with and then it constructs features out of those like circles, squares and so on. The next layer finds the combination of circles and squares and stuff like that."
   ]
  },
  {
   "cell_type": "code",
   "execution_count": 4,
   "id": "53808dac",
   "metadata": {},
   "outputs": [],
   "source": [
    "import os\n",
    "import cv2\n",
    "import numpy as np\n",
    "from tqdm import tqdm\n",
    "\n",
    "REBUILD_DATA = False # Flag to ensure that we don't build data everytime we run the code"
   ]
  },
  {
   "cell_type": "markdown",
   "id": "4886f767",
   "metadata": {},
   "source": [
    "Now, the image data is not uniform and we need to make the data normalized. So we make all the images of the size $50\\times 50$. We ignore the aspect ratio. We can also pad the image with white pixels if we wish to save the aspect ratio. Next step is to make a class for dogs vs cats."
   ]
  },
  {
   "cell_type": "code",
   "execution_count": 5,
   "id": "3261bf78",
   "metadata": {},
   "outputs": [],
   "source": [
    "class DogsVSCats():\n",
    "    IMG_SIZE = 50\n",
    "    CATS = \"PetImages/Cat\"\n",
    "    DOGS = \"PetImages/Dog\"\n",
    "    TESTING = \"PetImages/Testing\"\n",
    "    LABELS = {CATS: 0, DOGS: 1}\n",
    "    training_data = []\n",
    "\n",
    "    catcount = 0\n",
    "    dogcount = 0\n",
    "\n",
    "    def make_training_data(self):\n",
    "        for label in self.LABELS:\n",
    "            print(label)\n",
    "            for f in tqdm(os.listdir(label)):\n",
    "                if \"jpg\" in f:\n",
    "                    try: # We do this because there is some problem with some of the images\n",
    "                        path = os.path.join(label, f)\n",
    "                        img = cv2.imread(path, cv2.IMREAD_GRAYSCALE) # We ask the question, is color (an added data) required to classify cats and dogs? if answer is no, then we try to simplify the model as much as possible\n",
    "                        img = cv2.resize(img, (self.IMG_SIZE, self.IMG_SIZE)) # We convert every image to 50X50 size\n",
    "                        self.training_data.append([np.array(img), np.eye(2)[self.LABELS[label]]])  # do something like print(np.eye(2)[1]), just makes one_hot \n",
    "                        #print(np.eye(2)[self.LABELS[label]])\n",
    "\n",
    "                        if label == self.CATS:\n",
    "                            self.catcount += 1\n",
    "                        elif label == self.DOGS:\n",
    "                            self.dogcount += 1\n",
    "\n",
    "                    except Exception as e:\n",
    "                        pass\n",
    "                        #print(label, f, str(e))\n",
    "\n",
    "        np.random.shuffle(self.training_data)\n",
    "        np.save(\"training_data.npy\", self.training_data)\n",
    "        print('Cats:',dogsvcats.catcount) # Pretty sus for what we count but otherwise showing 0 for some reason\n",
    "        print('Dogs:',dogsvcats.dogcount)\n",
    "\n",
    "# Now we are ready to load the data\n",
    "if REBUILD_DATA:\n",
    "    dogsvcats = DogsVSCats()\n",
    "    dogsvcats.make_training_data()"
   ]
  },
  {
   "cell_type": "markdown",
   "id": "91743226",
   "metadata": {},
   "source": [
    "Now, we are ready to run the code to load the data"
   ]
  },
  {
   "cell_type": "code",
   "execution_count": 6,
   "id": "939d21c9",
   "metadata": {},
   "outputs": [],
   "source": [
    "training_data = np.load(\"training_data.npy\", allow_pickle = True)"
   ]
  },
  {
   "cell_type": "markdown",
   "id": "e665e52e",
   "metadata": {},
   "source": [
    "We can do a sanity check of what we just saved and if it is in the right format"
   ]
  },
  {
   "cell_type": "code",
   "execution_count": 7,
   "id": "44de3eb6",
   "metadata": {},
   "outputs": [
    {
     "name": "stdout",
     "output_type": "stream",
     "text": [
      "[array([[ 73,  58,  72, ..., 115,  76,  61],\n",
      "        [ 72,  67,  66, ..., 118, 124,  62],\n",
      "        [ 66,  65,  66, ..., 130, 154,  68],\n",
      "        ...,\n",
      "        [ 84,  93,  62, ...,  65,  47,  52],\n",
      "        [ 91,  89,  72, ...,  52,  47,  53],\n",
      "        [ 85,  83,  80, ...,  58,  55,  55]], dtype=uint8) array([1., 0.])]\n"
     ]
    }
   ],
   "source": [
    "print(training_data[0])"
   ]
  },
  {
   "cell_type": "markdown",
   "id": "b176d61c",
   "metadata": {},
   "source": [
    "The training_data\\[0\\] should be a cat as the 0th index is 1. Next, let's use matplotlib to see the image"
   ]
  },
  {
   "cell_type": "code",
   "execution_count": 8,
   "id": "658a593c",
   "metadata": {},
   "outputs": [
    {
     "data": {
      "text/plain": [
       "<matplotlib.image.AxesImage at 0x21c40b8bf10>"
      ]
     },
     "execution_count": 8,
     "metadata": {},
     "output_type": "execute_result"
    },
    {
     "data": {
      "image/png": "[encoded data removed]",
      "text/plain": [
       "<Figure size 432x288 with 1 Axes>"
      ]
     },
     "metadata": {
      "needs_background": "light"
     },
     "output_type": "display_data"
    }
   ],
   "source": [
    "import matplotlib.pyplot as plt\n",
    "\n",
    "plt.imshow(training_data[0][0])"
   ]
  },
  {
   "cell_type": "markdown",
   "id": "4a7571e5",
   "metadata": {},
   "source": [
    "### Now we will finally proceede to build the model"
   ]
  },
  {
   "cell_type": "code",
   "execution_count": 17,
   "id": "881f6ef9",
   "metadata": {},
   "outputs": [],
   "source": [
    "import torch\n",
    "import torch.nn as nn\n",
    "import torch.nn.functional as F\n",
    "\n",
    "class Net(nn.Module):\n",
    "    def __init__(self):\n",
    "        super().__init__()\n",
    "        self.conv1 = nn.Conv2d(1, 32, 5) # inputs, Outputs and Kernel size\n",
    "        self.conv2 = nn.Conv2d(32, 64, 5)\n",
    "        self.conv3 = nn.Conv2d(64, 128, 5)\n",
    "        \n",
    "        # Now at some point we would want to go to a linear layer. But that is tricky because we don't have a flatening function and we dont know how the dimensions will change\n",
    "        # self.fc1 = nn.Linear(?, 512) # This is how we need to proceede\n",
    "        # self.fc2 = nn.Linear(512, 2)\n",
    "                \n",
    "        # What we do is just pass random data and check the dimension that should replace the '?'\n",
    "        x = torch.randn(50,50).view(-1, 1, 50, 50) # 50*50 is the image size, 1 is the input to the conv1\n",
    "        self._to_linear = None # We will populate this to the dimension that is needed\n",
    "        self.convs(x) # This convs will serve as forward method but is actually not the forward method\n",
    "        \n",
    "        self.fc1 = nn.Linear(self._to_linear, 512)\n",
    "        self.fc2 = nn.Linear(512, 2)\n",
    "\n",
    "        \n",
    "    def convs(self, x):\n",
    "        x = F.max_pool2d(F.relu(self.conv1(x)), (2,2)) # (2,2) is the shape of pooling layer\n",
    "        x = F.max_pool2d(F.relu(self.conv2(x)), (2,2))\n",
    "        x = F.max_pool2d(F.relu(self.conv3(x)), (2,2))\n",
    "        \n",
    "        # print (x[0].shape)\n",
    "        if self._to_linear == None:\n",
    "            self._to_linear = x[0].shape[0]*x[0].shape[1]*x[0].shape[2]\n",
    "        return x\n",
    "    \n",
    "    def forward(self, x):\n",
    "        x = self.convs(x) # Instead of writing the 3 pooling layers again, we just write the function # Convolutional Layers\n",
    "        # Since self._to_linear got populated, it's no longer None\n",
    "        x = x.view(-1, self._to_linear)\n",
    "        x = F.relu(self.fc1(x)) # Linear layers\n",
    "        x = self.fc2(x) # Final linear layer to output cat/dog\n",
    "        \n",
    "        return F.softmax(x, dim = 1) # The x is a batch of data, so how will you reference the batches? The 0th dimensions will be all of the batches, so dim = 1 is required to specify the classification points\n",
    "      \n",
    "net = Net()"
   ]
  },
  {
   "cell_type": "markdown",
   "id": "22c7588c",
   "metadata": {},
   "source": [
    "Now we can start ot train and input the data"
   ]
  },
  {
   "cell_type": "code",
   "execution_count": 18,
   "id": "d51eb51a",
   "metadata": {},
   "outputs": [],
   "source": [
    "import torch.optim as optim\n",
    "\n",
    "optimizer = optim.Adam(net.parameters(), lr = 0.001)\n",
    "loss_function = nn.MSELoss()\n",
    "\n",
    "X = torch.Tensor(np.array([i[0] for i in training_data])).view(-1, 50, 50) # We are making a numpy array of the list because it is extreemely slow to convert a list to tensor (got as a warning)\n",
    "X = X/255.0 # To scale the values to lie in 0 to 1\n",
    "y = torch.Tensor(np.array([i[1] for i in training_data])) \n",
    "\n",
    "VAL_PCT = 0.1 # Value percent - testing for 10% of our dataset\n",
    "val_size = int(len(X)*VAL_PCT)"
   ]
  },
  {
   "cell_type": "code",
   "execution_count": 19,
   "id": "98c95db4",
   "metadata": {},
   "outputs": [
    {
     "name": "stdout",
     "output_type": "stream",
     "text": [
      "22452\n",
      "2494\n"
     ]
    }
   ],
   "source": [
    "train_X = X[:-val_size]\n",
    "test_X = X[-val_size:]\n",
    "\n",
    "train_y = y[:-val_size]\n",
    "test_y = y[-val_size:]\n",
    "\n",
    "print(len(train_X))\n",
    "print(len(test_X))"
   ]
  },
  {
   "cell_type": "markdown",
   "id": "4f36d704",
   "metadata": {},
   "source": [
    "Now, making the actual batches of the training data.\n",
    "\n",
    "### Let's revisit alll the data and see which is which"
   ]
  },
  {
   "cell_type": "code",
   "execution_count": 22,
   "id": "88c5f3ed",
   "metadata": {},
   "outputs": [
    {
     "data": {
      "text/plain": [
       "tensor([[[0.2863, 0.2275, 0.2824,  ..., 0.4510, 0.2980, 0.2392],\n",
       "         [0.2824, 0.2627, 0.2588,  ..., 0.4627, 0.4863, 0.2431],\n",
       "         [0.2588, 0.2549, 0.2588,  ..., 0.5098, 0.6039, 0.2667],\n",
       "         ...,\n",
       "         [0.3294, 0.3647, 0.2431,  ..., 0.2549, 0.1843, 0.2039],\n",
       "         [0.3569, 0.3490, 0.2824,  ..., 0.2039, 0.1843, 0.2078],\n",
       "         [0.3333, 0.3255, 0.3137,  ..., 0.2275, 0.2157, 0.2157]],\n",
       "\n",
       "        [[0.4588, 0.4588, 0.4275,  ..., 0.3569, 0.3490, 0.3765],\n",
       "         [0.4549, 0.4627, 0.4510,  ..., 0.3804, 0.3608, 0.3882],\n",
       "         [0.4980, 0.4706, 0.4784,  ..., 0.3765, 0.3804, 0.3922],\n",
       "         ...,\n",
       "         [0.0235, 0.0039, 0.0078,  ..., 0.8941, 0.8784, 0.8667],\n",
       "         [0.0627, 0.0118, 0.0118,  ..., 0.8745, 0.8588, 0.8667],\n",
       "         [0.0784, 0.0392, 0.0078,  ..., 0.8667, 0.8431, 0.8431]],\n",
       "\n",
       "        [[0.3137, 0.0431, 0.0588,  ..., 0.0902, 0.1255, 0.2196],\n",
       "         [0.2863, 0.2431, 0.1294,  ..., 0.9020, 0.0039, 0.1294],\n",
       "         [0.2392, 0.2039, 0.1686,  ..., 0.3490, 0.0118, 0.1412],\n",
       "         ...,\n",
       "         [0.0784, 0.0196, 0.0627,  ..., 0.0549, 0.0314, 0.0431],\n",
       "         [0.1882, 0.0392, 0.0667,  ..., 0.0275, 0.0510, 0.0471],\n",
       "         [0.4431, 0.0667, 0.1020,  ..., 0.0314, 0.0392, 0.2745]],\n",
       "\n",
       "        ...,\n",
       "\n",
       "        [[0.4078, 0.4706, 0.3412,  ..., 0.3333, 0.4078, 0.4745],\n",
       "         [0.4392, 0.4196, 0.2980,  ..., 0.3686, 0.3686, 0.2784],\n",
       "         [0.3059, 0.2706, 0.2863,  ..., 0.2353, 0.2392, 0.3137],\n",
       "         ...,\n",
       "         [0.9412, 0.9647, 0.9804,  ..., 0.5843, 0.5961, 0.6078],\n",
       "         [0.8902, 0.9804, 0.9804,  ..., 0.6784, 0.6980, 0.6627],\n",
       "         [0.9765, 0.9804, 0.9804,  ..., 0.7137, 0.7451, 0.7098]],\n",
       "\n",
       "        [[0.4235, 0.3804, 0.3882,  ..., 0.4275, 0.1686, 0.1608],\n",
       "         [0.4353, 0.3922, 0.3882,  ..., 0.4314, 0.1490, 0.1804],\n",
       "         [0.4275, 0.3922, 0.3804,  ..., 0.4314, 0.1647, 0.3569],\n",
       "         ...,\n",
       "         [0.4980, 0.4706, 0.4824,  ..., 0.4196, 0.4118, 0.4039],\n",
       "         [0.4824, 0.5059, 0.4824,  ..., 0.4275, 0.4314, 0.4118],\n",
       "         [0.5216, 0.5137, 0.5059,  ..., 0.4431, 0.4353, 0.4510]],\n",
       "\n",
       "        [[0.8235, 0.8275, 0.8157,  ..., 0.2588, 0.2431, 0.2549],\n",
       "         [0.8196, 0.8314, 0.8157,  ..., 0.2627, 0.2667, 0.2784],\n",
       "         [0.8157, 0.8275, 0.8000,  ..., 0.2784, 0.2745, 0.2745],\n",
       "         ...,\n",
       "         [0.4353, 0.4471, 0.4627,  ..., 0.4627, 0.4627, 0.4588],\n",
       "         [0.4471, 0.4275, 0.4235,  ..., 0.4588, 0.4471, 0.4667],\n",
       "         [0.4431, 0.4471, 0.4392,  ..., 0.4627, 0.4745, 0.4667]]])"
      ]
     },
     "execution_count": 22,
     "metadata": {},
     "output_type": "execute_result"
    }
   ],
   "source": [
    "train_X"
   ]
  },
  {
   "cell_type": "code",
   "execution_count": 23,
   "id": "47ea04c1",
   "metadata": {},
   "outputs": [
    {
     "data": {
      "text/plain": [
       "tensor([[0.2863, 0.2275, 0.2824,  ..., 0.4510, 0.2980, 0.2392],\n",
       "        [0.2824, 0.2627, 0.2588,  ..., 0.4627, 0.4863, 0.2431],\n",
       "        [0.2588, 0.2549, 0.2588,  ..., 0.5098, 0.6039, 0.2667],\n",
       "        ...,\n",
       "        [0.3294, 0.3647, 0.2431,  ..., 0.2549, 0.1843, 0.2039],\n",
       "        [0.3569, 0.3490, 0.2824,  ..., 0.2039, 0.1843, 0.2078],\n",
       "        [0.3333, 0.3255, 0.3137,  ..., 0.2275, 0.2157, 0.2157]])"
      ]
     },
     "execution_count": 23,
     "metadata": {},
     "output_type": "execute_result"
    }
   ],
   "source": [
    "train_X[0]"
   ]
  },
  {
   "cell_type": "code",
   "execution_count": 24,
   "id": "7293bba8",
   "metadata": {},
   "outputs": [
    {
     "data": {
      "text/plain": [
       "tensor([[1., 0.],\n",
       "        [1., 0.],\n",
       "        [1., 0.],\n",
       "        ...,\n",
       "        [0., 1.],\n",
       "        [0., 1.],\n",
       "        [0., 1.]])"
      ]
     },
     "execution_count": 24,
     "metadata": {},
     "output_type": "execute_result"
    }
   ],
   "source": [
    "train_y"
   ]
  },
  {
   "cell_type": "code",
   "execution_count": 25,
   "id": "687f56bc",
   "metadata": {},
   "outputs": [
    {
     "data": {
      "text/plain": [
       "tensor([1., 0.])"
      ]
     },
     "execution_count": 25,
     "metadata": {},
     "output_type": "execute_result"
    }
   ],
   "source": [
    "train_y[0]"
   ]
  },
  {
   "cell_type": "code",
   "execution_count": 28,
   "id": "29e7657d",
   "metadata": {},
   "outputs": [
    {
     "data": {
      "text/plain": [
       "(torch.Size([22452, 50, 50]), torch.Size([22452, 2]))"
      ]
     },
     "execution_count": 28,
     "metadata": {},
     "output_type": "execute_result"
    }
   ],
   "source": [
    "train_X.size(), train_y.size()"
   ]
  },
  {
   "cell_type": "code",
   "execution_count": 20,
   "id": "d35cc3ea",
   "metadata": {},
   "outputs": [
    {
     "name": "stderr",
     "output_type": "stream",
     "text": [
      "100%|██████████| 225/225 [01:11<00:00,  3.16it/s]"
     ]
    },
    {
     "name": "stdout",
     "output_type": "stream",
     "text": [
      "tensor(0.2348, grad_fn=<MseLossBackward0>)\n"
     ]
    },
    {
     "name": "stderr",
     "output_type": "stream",
     "text": [
      "\n"
     ]
    }
   ],
   "source": [
    "BATCH_SIZE = 100 # If you get a memory error, always anywhere lower the batch size\n",
    "EPOCHS = 1\n",
    "\n",
    "for epoch in range(EPOCHS):\n",
    "    for i in tqdm(range(0, len(train_X), BATCH_SIZE)):\n",
    "        # print(i, i+BATCH_SIZE)\n",
    "        batch_X = train_X[i:i+BATCH_SIZE].view(-1,1,50,50)\n",
    "        batch_y = train_y[i:i+BATCH_SIZE]\n",
    "        \n",
    "        # Now we plan to do a fitnet, and whenever we do that, we need to zero the gradients\n",
    "        # You can use model.zero_grad (our model is net) or optimizer.zero_grad, the difference between the two is based on the parameters that optimizer controls, in this case it controls all the parameters, no there's no difference\n",
    "        # There might be a case where we have 2 models with different optimizers on each side. We have to choose the way to do it based on the case\n",
    "        net.zero_grad() # Is the safest way to do\n",
    "        outputs = net(batch_X)\n",
    "        loss = loss_function(outputs, batch_y)\n",
    "        loss.backward()\n",
    "        optimizer.step()\n",
    "        \n",
    "print(loss)"
   ]
  },
  {
   "cell_type": "markdown",
   "id": "b4719aea",
   "metadata": {},
   "source": [
    "Checking out how the new batched data looks:"
   ]
  },
  {
   "cell_type": "code",
   "execution_count": 29,
   "id": "bf28219d",
   "metadata": {},
   "outputs": [
    {
     "data": {
      "text/plain": [
       "tensor([[[[0.1333, 0.1451, 0.1020,  ..., 0.0784, 0.0824, 0.0588],\n",
       "          [0.1137, 0.1412, 0.1608,  ..., 0.1843, 0.0980, 0.0745],\n",
       "          [0.0980, 0.1294, 0.2471,  ..., 0.0902, 0.0941, 0.0745],\n",
       "          ...,\n",
       "          [0.8157, 0.7843, 0.7804,  ..., 0.7020, 0.6588, 0.6431],\n",
       "          [0.8078, 0.7882, 0.7765,  ..., 0.5882, 0.6588, 0.6431],\n",
       "          [0.8196, 0.8510, 0.8588,  ..., 0.6039, 0.6588, 0.6627]]],\n",
       "\n",
       "\n",
       "        [[[0.3882, 0.3882, 0.3922,  ..., 0.3804, 0.3765, 0.3686],\n",
       "          [0.3961, 0.3961, 0.4000,  ..., 0.3804, 0.3725, 0.3686],\n",
       "          [0.4000, 0.4000, 0.4039,  ..., 0.3843, 0.3804, 0.3725],\n",
       "          ...,\n",
       "          [0.5255, 0.5333, 0.5412,  ..., 0.3804, 0.3725, 0.3686],\n",
       "          [0.5255, 0.5333, 0.5412,  ..., 0.4431, 0.4314, 0.4039],\n",
       "          [0.5294, 0.5373, 0.5412,  ..., 0.4784, 0.4706, 0.4471]]],\n",
       "\n",
       "\n",
       "        [[[0.7843, 0.7843, 0.7647,  ..., 0.1333, 0.2784, 0.3882],\n",
       "          [0.7569, 0.8039, 0.7647,  ..., 0.1176, 0.1451, 0.3137],\n",
       "          [0.3765, 0.8078, 0.8039,  ..., 0.2863, 0.2000, 0.2039],\n",
       "          ...,\n",
       "          [0.4118, 0.4078, 0.4353,  ..., 0.4706, 0.4431, 0.1961],\n",
       "          [0.4863, 0.4667, 0.4471,  ..., 0.5176, 0.3647, 0.1961],\n",
       "          [0.4706, 0.4745, 0.4431,  ..., 0.5176, 0.2235, 0.2118]]],\n",
       "\n",
       "\n",
       "        ...,\n",
       "\n",
       "\n",
       "        [[[0.4078, 0.4706, 0.3412,  ..., 0.3333, 0.4078, 0.4745],\n",
       "          [0.4392, 0.4196, 0.2980,  ..., 0.3686, 0.3686, 0.2784],\n",
       "          [0.3059, 0.2706, 0.2863,  ..., 0.2353, 0.2392, 0.3137],\n",
       "          ...,\n",
       "          [0.9412, 0.9647, 0.9804,  ..., 0.5843, 0.5961, 0.6078],\n",
       "          [0.8902, 0.9804, 0.9804,  ..., 0.6784, 0.6980, 0.6627],\n",
       "          [0.9765, 0.9804, 0.9804,  ..., 0.7137, 0.7451, 0.7098]]],\n",
       "\n",
       "\n",
       "        [[[0.4235, 0.3804, 0.3882,  ..., 0.4275, 0.1686, 0.1608],\n",
       "          [0.4353, 0.3922, 0.3882,  ..., 0.4314, 0.1490, 0.1804],\n",
       "          [0.4275, 0.3922, 0.3804,  ..., 0.4314, 0.1647, 0.3569],\n",
       "          ...,\n",
       "          [0.4980, 0.4706, 0.4824,  ..., 0.4196, 0.4118, 0.4039],\n",
       "          [0.4824, 0.5059, 0.4824,  ..., 0.4275, 0.4314, 0.4118],\n",
       "          [0.5216, 0.5137, 0.5059,  ..., 0.4431, 0.4353, 0.4510]]],\n",
       "\n",
       "\n",
       "        [[[0.8235, 0.8275, 0.8157,  ..., 0.2588, 0.2431, 0.2549],\n",
       "          [0.8196, 0.8314, 0.8157,  ..., 0.2627, 0.2667, 0.2784],\n",
       "          [0.8157, 0.8275, 0.8000,  ..., 0.2784, 0.2745, 0.2745],\n",
       "          ...,\n",
       "          [0.4353, 0.4471, 0.4627,  ..., 0.4627, 0.4627, 0.4588],\n",
       "          [0.4471, 0.4275, 0.4235,  ..., 0.4588, 0.4471, 0.4667],\n",
       "          [0.4431, 0.4471, 0.4392,  ..., 0.4627, 0.4745, 0.4667]]]])"
      ]
     },
     "execution_count": 29,
     "metadata": {},
     "output_type": "execute_result"
    }
   ],
   "source": [
    "batch_X"
   ]
  },
  {
   "cell_type": "code",
   "execution_count": 30,
   "id": "1eaf4529",
   "metadata": {},
   "outputs": [
    {
     "data": {
      "text/plain": [
       "tensor([[[0.1333, 0.1451, 0.1020,  ..., 0.0784, 0.0824, 0.0588],\n",
       "         [0.1137, 0.1412, 0.1608,  ..., 0.1843, 0.0980, 0.0745],\n",
       "         [0.0980, 0.1294, 0.2471,  ..., 0.0902, 0.0941, 0.0745],\n",
       "         ...,\n",
       "         [0.8157, 0.7843, 0.7804,  ..., 0.7020, 0.6588, 0.6431],\n",
       "         [0.8078, 0.7882, 0.7765,  ..., 0.5882, 0.6588, 0.6431],\n",
       "         [0.8196, 0.8510, 0.8588,  ..., 0.6039, 0.6588, 0.6627]]])"
      ]
     },
     "execution_count": 30,
     "metadata": {},
     "output_type": "execute_result"
    }
   ],
   "source": [
    "batch_X[0]"
   ]
  },
  {
   "cell_type": "code",
   "execution_count": 32,
   "id": "634d715b",
   "metadata": {},
   "outputs": [
    {
     "data": {
      "text/plain": [
       "(torch.Size([52, 1, 50, 50]), torch.Size([1, 50, 50]))"
      ]
     },
     "execution_count": 32,
     "metadata": {},
     "output_type": "execute_result"
    }
   ],
   "source": [
    "batch_X.size(), batch_X[0].size()"
   ]
  },
  {
   "cell_type": "code",
   "execution_count": 33,
   "id": "410b4a1b",
   "metadata": {
    "scrolled": true
   },
   "outputs": [
    {
     "data": {
      "text/plain": [
       "tensor([[1., 0.],\n",
       "        [0., 1.],\n",
       "        [1., 0.],\n",
       "        [1., 0.],\n",
       "        [1., 0.],\n",
       "        [0., 1.],\n",
       "        [0., 1.],\n",
       "        [0., 1.],\n",
       "        [0., 1.],\n",
       "        [1., 0.],\n",
       "        [0., 1.],\n",
       "        [1., 0.],\n",
       "        [1., 0.],\n",
       "        [1., 0.],\n",
       "        [1., 0.],\n",
       "        [1., 0.],\n",
       "        [1., 0.],\n",
       "        [0., 1.],\n",
       "        [0., 1.],\n",
       "        [0., 1.],\n",
       "        [0., 1.],\n",
       "        [0., 1.],\n",
       "        [0., 1.],\n",
       "        [1., 0.],\n",
       "        [0., 1.],\n",
       "        [1., 0.],\n",
       "        [1., 0.],\n",
       "        [0., 1.],\n",
       "        [0., 1.],\n",
       "        [1., 0.],\n",
       "        [0., 1.],\n",
       "        [0., 1.],\n",
       "        [0., 1.],\n",
       "        [0., 1.],\n",
       "        [0., 1.],\n",
       "        [0., 1.],\n",
       "        [0., 1.],\n",
       "        [0., 1.],\n",
       "        [1., 0.],\n",
       "        [1., 0.],\n",
       "        [0., 1.],\n",
       "        [0., 1.],\n",
       "        [1., 0.],\n",
       "        [0., 1.],\n",
       "        [0., 1.],\n",
       "        [1., 0.],\n",
       "        [0., 1.],\n",
       "        [1., 0.],\n",
       "        [0., 1.],\n",
       "        [0., 1.],\n",
       "        [0., 1.],\n",
       "        [0., 1.]])"
      ]
     },
     "execution_count": 33,
     "metadata": {},
     "output_type": "execute_result"
    }
   ],
   "source": [
    "batch_y"
   ]
  },
  {
   "cell_type": "code",
   "execution_count": 34,
   "id": "6a9df7a0",
   "metadata": {},
   "outputs": [
    {
     "data": {
      "text/plain": [
       "tensor([1., 0.])"
      ]
     },
     "execution_count": 34,
     "metadata": {},
     "output_type": "execute_result"
    }
   ],
   "source": [
    "batch_y[0]"
   ]
  },
  {
   "cell_type": "code",
   "execution_count": 35,
   "id": "dabe1aef",
   "metadata": {},
   "outputs": [
    {
     "data": {
      "text/plain": [
       "(torch.Size([52, 2]), torch.Size([2]))"
      ]
     },
     "execution_count": 35,
     "metadata": {},
     "output_type": "execute_result"
    }
   ],
   "source": [
    "batch_y.size(), batch_y[0].size()"
   ]
  },
  {
   "cell_type": "code",
   "execution_count": 21,
   "id": "32961db6",
   "metadata": {},
   "outputs": [
    {
     "name": "stderr",
     "output_type": "stream",
     "text": [
      "100%|██████████| 2494/2494 [00:04<00:00, 555.92it/s]"
     ]
    },
    {
     "name": "stdout",
     "output_type": "stream",
     "text": [
      "Accuracy:  0.64\n"
     ]
    },
    {
     "name": "stderr",
     "output_type": "stream",
     "text": [
      "\n"
     ]
    }
   ],
   "source": [
    "correct = 0\n",
    "total = 0\n",
    "\n",
    "with torch.no_grad():\n",
    "    for i in tqdm(range(len(test_X))):\n",
    "        real_class = torch.argmax(test_y[i])\n",
    "        net_out = net(test_X[i].view(-1, 1, 50, 50))[0]\n",
    "        predicted_class = torch.argmax(net_out)\n",
    "        if predicted_class == real_class:\n",
    "            correct += 1\n",
    "        total += 1\n",
    "        \n",
    "accuracy = correct/total\n",
    "print(\"Accuracy: \", round(accuracy, 3))"
   ]
  }
 ],
 "metadata": {
  "kernelspec": {
   "display_name": "Python 3",
   "language": "python",
   "name": "python3"
  },
  "language_info": {
   "codemirror_mode": {
    "name": "ipython",
    "version": 3
   },
   "file_extension": ".py",
   "mimetype": "text/x-python",
   "name": "python",
   "nbconvert_exporter": "python",
   "pygments_lexer": "ipython3",
   "version": "3.8.8"
  }
 },
 "nbformat": 4,
 "nbformat_minor": 5
}
