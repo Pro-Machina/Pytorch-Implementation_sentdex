{
 "cells": [
  {
   "cell_type": "markdown",
   "id": "bea80d16",
   "metadata": {},
   "source": [
    "# Data!\n",
    "\n",
    "This notebook focuses on actual data that we input to a neural network. We focus on:\n",
    "- Accquiring the data\n",
    "- Preprocessing data\n",
    "- How to iterate over the data"
   ]
  },
  {
   "cell_type": "code",
   "execution_count": 3,
   "id": "ca33440f",
   "metadata": {},
   "outputs": [],
   "source": [
    "import torch\n",
    "import torchvision\n",
    "from torchvision import transforms, datasets"
   ]
  },
  {
   "cell_type": "markdown",
   "id": "36b64a81",
   "metadata": {},
   "source": [
    "Torchvision is a collection of data/datasets that we can use to train our model on. It has a bunch of vision data. \n",
    "Next we need to define our training and testing dataset.\n",
    "\n",
    "## MNIST Data\n",
    "Next we use MNIST dataset. The data is not in the form of a tensor, so we need to transform it into a tensor."
   ]
  },
  {
   "cell_type": "code",
   "execution_count": 8,
   "id": "8bdf5dbf",
   "metadata": {},
   "outputs": [],
   "source": [
    "train = datasets.MNIST(\"\", train = True, download = True, transform = transforms.Compose([transforms.ToTensor()]))\n",
    "test = datasets.MNIST(\"\", train = False, download = True, transform = transforms.Compose([transforms.ToTensor()])) "
   ]
  },
  {
   "cell_type": "code",
   "execution_count": 9,
   "id": "a11b705f",
   "metadata": {},
   "outputs": [],
   "source": [
    "trainset = torch.utils.data.DataLoader(train, batch_size = 10, shuffle = True)\n",
    "testset = torch.utils.data.DataLoader(test, batch_size = 10, shuffle = True)"
   ]
  },
  {
   "cell_type": "markdown",
   "id": "8a570901",
   "metadata": {},
   "source": [
    "# Generalizing Data\n",
    "## Batch Size\n",
    "The reason why we batch data is because our data is going to be so big that we might not be able to fit it on a GPU. The second reason is that if you pass the entire data through the model at once, the machine might learn the stuff specific to the data in addition to the 'general' stuff. What we do is that we pass the data in batches so it only optimizes for the 'general' stuff.\n",
    "\n",
    "Batch size is also a trial and error thing. There is a sweet spot wich is usually between 8 and 64, regardless of how big the memory is.\n",
    "\n",
    "You want your batch size to be as big as possible because that impacts how quickly you're going to train through your data.\n",
    "\n",
    "## Shuffle\n",
    "We need to shuffle a non sequential data because, taking an example, if we feed in all the 0s at once, machine would think that everything is 0, then we'll feed 1, and the machine will think everything is 1.. and so on.\n",
    "\n",
    "#### Both the steps are carried out here to generalize as much as possible"
   ]
  },
  {
   "cell_type": "markdown",
   "id": "9bddf674",
   "metadata": {},
   "source": [
    "Next, lets see how the data is:"
   ]
  },
  {
   "cell_type": "code",
   "execution_count": 10,
   "id": "0e07fa6f",
   "metadata": {},
   "outputs": [
    {
     "name": "stdout",
     "output_type": "stream",
     "text": [
      "[tensor([[[[0., 0., 0.,  ..., 0., 0., 0.],\n",
      "          [0., 0., 0.,  ..., 0., 0., 0.],\n",
      "          [0., 0., 0.,  ..., 0., 0., 0.],\n",
      "          ...,\n",
      "          [0., 0., 0.,  ..., 0., 0., 0.],\n",
      "          [0., 0., 0.,  ..., 0., 0., 0.],\n",
      "          [0., 0., 0.,  ..., 0., 0., 0.]]],\n",
      "\n",
      "\n",
      "        [[[0., 0., 0.,  ..., 0., 0., 0.],\n",
      "          [0., 0., 0.,  ..., 0., 0., 0.],\n",
      "          [0., 0., 0.,  ..., 0., 0., 0.],\n",
      "          ...,\n",
      "          [0., 0., 0.,  ..., 0., 0., 0.],\n",
      "          [0., 0., 0.,  ..., 0., 0., 0.],\n",
      "          [0., 0., 0.,  ..., 0., 0., 0.]]],\n",
      "\n",
      "\n",
      "        [[[0., 0., 0.,  ..., 0., 0., 0.],\n",
      "          [0., 0., 0.,  ..., 0., 0., 0.],\n",
      "          [0., 0., 0.,  ..., 0., 0., 0.],\n",
      "          ...,\n",
      "          [0., 0., 0.,  ..., 0., 0., 0.],\n",
      "          [0., 0., 0.,  ..., 0., 0., 0.],\n",
      "          [0., 0., 0.,  ..., 0., 0., 0.]]],\n",
      "\n",
      "\n",
      "        ...,\n",
      "\n",
      "\n",
      "        [[[0., 0., 0.,  ..., 0., 0., 0.],\n",
      "          [0., 0., 0.,  ..., 0., 0., 0.],\n",
      "          [0., 0., 0.,  ..., 0., 0., 0.],\n",
      "          ...,\n",
      "          [0., 0., 0.,  ..., 0., 0., 0.],\n",
      "          [0., 0., 0.,  ..., 0., 0., 0.],\n",
      "          [0., 0., 0.,  ..., 0., 0., 0.]]],\n",
      "\n",
      "\n",
      "        [[[0., 0., 0.,  ..., 0., 0., 0.],\n",
      "          [0., 0., 0.,  ..., 0., 0., 0.],\n",
      "          [0., 0., 0.,  ..., 0., 0., 0.],\n",
      "          ...,\n",
      "          [0., 0., 0.,  ..., 0., 0., 0.],\n",
      "          [0., 0., 0.,  ..., 0., 0., 0.],\n",
      "          [0., 0., 0.,  ..., 0., 0., 0.]]],\n",
      "\n",
      "\n",
      "        [[[0., 0., 0.,  ..., 0., 0., 0.],\n",
      "          [0., 0., 0.,  ..., 0., 0., 0.],\n",
      "          [0., 0., 0.,  ..., 0., 0., 0.],\n",
      "          ...,\n",
      "          [0., 0., 0.,  ..., 0., 0., 0.],\n",
      "          [0., 0., 0.,  ..., 0., 0., 0.],\n",
      "          [0., 0., 0.,  ..., 0., 0., 0.]]]]), tensor([0, 9, 6, 3, 3, 8, 0, 0, 5, 9])]\n"
     ]
    }
   ],
   "source": [
    "for data in trainset:\n",
    "    print(data)\n",
    "    break"
   ]
  },
  {
   "cell_type": "markdown",
   "id": "001b8387",
   "metadata": {},
   "source": [
    "The above print is representing a batch, we have 10 examples of hand written digits and the corresponding pixels or tensors.\n",
    "\n",
    "Next, we can show the image using Matplotlib. But for that we need to reshape the tensor to a $28\\times 28$ matrix."
   ]
  },
  {
   "cell_type": "code",
   "execution_count": 13,
   "id": "fc7405ff",
   "metadata": {},
   "outputs": [
    {
     "data": {
      "text/plain": [
       "torch.Size([1, 28, 28])"
      ]
     },
     "execution_count": 13,
     "metadata": {},
     "output_type": "execute_result"
    }
   ],
   "source": [
    "data[0][0].shape"
   ]
  },
  {
   "cell_type": "markdown",
   "id": "b159f6c1",
   "metadata": {},
   "source": [
    "The 1 needs to be dealt with"
   ]
  },
  {
   "cell_type": "code",
   "execution_count": 11,
   "id": "03969971",
   "metadata": {},
   "outputs": [],
   "source": [
    "x, y = data[0][0], data[1][0]\n",
    "# data is a list of tensors, where x will be the first batch matrix and y will be the actual answer/number"
   ]
  },
  {
   "cell_type": "code",
   "execution_count": 12,
   "id": "82ddc362",
   "metadata": {},
   "outputs": [
    {
     "data": {
      "image/png": "[encoded data removed]",
      "text/plain": [
       "<Figure size 432x288 with 1 Axes>"
      ]
     },
     "metadata": {
      "needs_background": "light"
     },
     "output_type": "display_data"
    }
   ],
   "source": [
    "import matplotlib.pyplot as plt\n",
    "\n",
    "plt.imshow(data[0][0].view(28,28))\n",
    "plt.show()"
   ]
  },
  {
   "cell_type": "markdown",
   "id": "f4849f35",
   "metadata": {},
   "source": [
    "As seen in the print(data), the first example is that of a 0, we reshaped the tensor and used matplotlib to visualize the pixel image"
   ]
  },
  {
   "cell_type": "markdown",
   "id": "85696fe6",
   "metadata": {},
   "source": [
    "# Balancing the data\n",
    "It is important to balance the training dataset, it means that there should be adequate examples of all the instances. If there is just 60% 3 in our dataset, the machine will learn to always predict a 3 to minimize the loss and get stuck there."
   ]
  },
  {
   "cell_type": "code",
   "execution_count": 14,
   "id": "6cacdbe2",
   "metadata": {},
   "outputs": [
    {
     "name": "stdout",
     "output_type": "stream",
     "text": [
      "{0: 5923, 1: 6742, 2: 5958, 3: 6131, 4: 5842, 5: 5421, 6: 5918, 7: 6265, 8: 5851, 9: 5949}\n"
     ]
    }
   ],
   "source": [
    "total = 0\n",
    "counter_dict = {0:0, 1:0, 2:0, 3:0, 4:0, 5:0, 6:0, 7:0, 8:0, 9:0}\n",
    "\n",
    "for data in trainset:\n",
    "    xs, ys = data\n",
    "    for y in ys:\n",
    "        counter_dict[int(y)] += 1\n",
    "        total += 1\n",
    "        \n",
    "print(counter_dict)"
   ]
  },
  {
   "cell_type": "markdown",
   "id": "da397d3c",
   "metadata": {},
   "source": [
    "Now, finding the % of all the data instances, "
   ]
  },
  {
   "cell_type": "code",
   "execution_count": 15,
   "id": "3e229bc2",
   "metadata": {},
   "outputs": [
    {
     "name": "stdout",
     "output_type": "stream",
     "text": [
      "0: 9.871666666666666\n",
      "1: 11.236666666666666\n",
      "2: 9.93\n",
      "3: 10.218333333333334\n",
      "4: 9.736666666666666\n",
      "5: 9.035\n",
      "6: 9.863333333333333\n",
      "7: 10.441666666666666\n",
      "8: 9.751666666666667\n",
      "9: 9.915\n"
     ]
    }
   ],
   "source": [
    "for i in counter_dict:\n",
    "    print(f\"{i}: {counter_dict[i]*100/total}\")"
   ]
  },
  {
   "cell_type": "code",
   "execution_count": null,
   "id": "413bd2cd",
   "metadata": {},
   "outputs": [],
   "source": []
  }
 ],
 "metadata": {
  "kernelspec": {
   "display_name": "Python 3",
   "language": "python",
   "name": "python3"
  },
  "language_info": {
   "codemirror_mode": {
    "name": "ipython",
    "version": 3
   },
   "file_extension": ".py",
   "mimetype": "text/x-python",
   "name": "python",
   "nbconvert_exporter": "python",
   "pygments_lexer": "ipython3",
   "version": "3.8.8"
  }
 },
 "nbformat": 4,
 "nbformat_minor": 5
}
