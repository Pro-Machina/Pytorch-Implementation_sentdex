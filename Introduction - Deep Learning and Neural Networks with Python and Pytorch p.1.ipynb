{
 "cells": [
  {
   "cell_type": "markdown",
   "id": "8f51aa16",
   "metadata": {},
   "source": [
    "# Why do we need Pytorch?\n",
    "\n",
    "The problem with Numpy was that id did not run on GPUs so when Deep Learning came into the picture, GPUs became important for doing all the calculations required for DL. So pytorch is just like Numpy on a GPU with a lot of helper functions."
   ]
  },
  {
   "cell_type": "code",
   "execution_count": 1,
   "id": "08d624ee",
   "metadata": {},
   "outputs": [],
   "source": [
    "import torch"
   ]
  },
  {
   "cell_type": "markdown",
   "id": "cc56f4c0",
   "metadata": {},
   "source": [
    "Let's get started with very basic operations using Pytorch."
   ]
  },
  {
   "cell_type": "code",
   "execution_count": 2,
   "id": "5f82c760",
   "metadata": {},
   "outputs": [
    {
     "name": "stdout",
     "output_type": "stream",
     "text": [
      "tensor([10.,  3.])\n"
     ]
    }
   ],
   "source": [
    "x = torch.Tensor([5, 1])\n",
    "y = torch.Tensor([2, 3])\n",
    "\n",
    "z = x*y\n",
    "print(z)"
   ]
  },
  {
   "cell_type": "markdown",
   "id": "1118fc8d",
   "metadata": {},
   "source": [
    "# What is a Pytorch Tensor?\n",
    "\n",
    "What did we just do and what is a tensor? \n",
    "Answer (Using Pytorch Documentation): A PyTorch Tensor is basically the same as a numpy array: it does not know anything about deep learning or computational graphs or gradients, and is just a generic n-dimensional array to be used for arbitrary numeric computation.\n",
    "\n",
    "The biggest difference between a numpy array and a PyTorch Tensor is that a PyTorch Tensor can run on either CPU or GPU. To run operations on the GPU, just cast the Tensor to a cuda datatype.\n",
    "\n",
    "Let's move on to some basic operations that we can carry out using Pytorch"
   ]
  },
  {
   "cell_type": "code",
   "execution_count": 3,
   "id": "29f0a6e7",
   "metadata": {},
   "outputs": [
    {
     "name": "stdout",
     "output_type": "stream",
     "text": [
      "tensor([[0., 0., 0., 0., 0.],\n",
      "        [0., 0., 0., 0., 0.]])\n"
     ]
    }
   ],
   "source": [
    "zeros_2_5 = torch.zeros([2,5])\n",
    "print (zeros_2_5)"
   ]
  },
  {
   "cell_type": "code",
   "execution_count": 4,
   "id": "9d626fcf",
   "metadata": {},
   "outputs": [
    {
     "data": {
      "text/plain": [
       "torch.Size([2, 5])"
      ]
     },
     "execution_count": 4,
     "metadata": {},
     "output_type": "execute_result"
    }
   ],
   "source": [
    "zeros_2_5.shape"
   ]
  },
  {
   "cell_type": "code",
   "execution_count": 5,
   "id": "5f259cab",
   "metadata": {},
   "outputs": [
    {
     "name": "stdout",
     "output_type": "stream",
     "text": [
      "tensor([[0.5053, 0.0453, 0.5464, 0.9517, 0.6001],\n",
      "        [0.8397, 0.0436, 0.0210, 0.1278, 0.2972]])\n"
     ]
    }
   ],
   "source": [
    "rand_2_5 = torch.rand([2,5])\n",
    "print(rand_2_5)"
   ]
  },
  {
   "cell_type": "markdown",
   "id": "f5ee6311",
   "metadata": {},
   "source": [
    "## Reshaping the tensor\n",
    "Suppose we need to flatten a $2 \\times 5$ pixel image, we can do it using 'view'. But remember to reassign"
   ]
  },
  {
   "cell_type": "code",
   "execution_count": 8,
   "id": "feefb955",
   "metadata": {},
   "outputs": [
    {
     "name": "stdout",
     "output_type": "stream",
     "text": [
      "tensor([[0.5053, 0.0453, 0.5464, 0.9517, 0.6001, 0.8397, 0.0436, 0.0210, 0.1278,\n",
      "         0.2972]])\n"
     ]
    }
   ],
   "source": [
    "rand_1_10 = rand_2_5.view([1,10])\n",
    "print(rand_1_10)"
   ]
  },
  {
   "cell_type": "code",
   "execution_count": null,
   "id": "75651a39",
   "metadata": {},
   "outputs": [],
   "source": []
  }
 ],
 "metadata": {
  "kernelspec": {
   "display_name": "Python 3",
   "language": "python",
   "name": "python3"
  },
  "language_info": {
   "codemirror_mode": {
    "name": "ipython",
    "version": 3
   },
   "file_extension": ".py",
   "mimetype": "text/x-python",
   "name": "python",
   "nbconvert_exporter": "python",
   "pygments_lexer": "ipython3",
   "version": "3.8.8"
  }
 },
 "nbformat": 4,
 "nbformat_minor": 5
}
