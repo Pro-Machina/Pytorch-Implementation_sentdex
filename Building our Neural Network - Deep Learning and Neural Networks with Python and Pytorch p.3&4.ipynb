{
 "cells": [
  {
   "cell_type": "code",
   "execution_count": 1,
   "id": "9162ec25",
   "metadata": {},
   "outputs": [],
   "source": [
    "import torch\n",
    "import torchvision\n",
    "from torchvision import transforms, datasets"
   ]
  },
  {
   "cell_type": "code",
   "execution_count": 4,
   "id": "d72e9df8",
   "metadata": {},
   "outputs": [],
   "source": [
    "train = datasets.MNIST(\"\", train = True, download = True, transform = transforms.Compose([transforms.ToTensor()]))\n",
    "test = datasets.MNIST(\"\", train = False, download = True, transform = transforms.Compose([transforms.ToTensor()])) \n",
    "\n",
    "trainset = torch.utils.data.DataLoader(train, batch_size = 10, shuffle = True)\n",
    "testset = torch.utils.data.DataLoader(test, batch_size = 10, shuffle = True)"
   ]
  },
  {
   "cell_type": "code",
   "execution_count": 5,
   "id": "a90a9ae5",
   "metadata": {},
   "outputs": [],
   "source": [
    "import torch.nn as nn\n",
    "import torch.nn.functional as F"
   ]
  },
  {
   "cell_type": "markdown",
   "id": "082f6513",
   "metadata": {},
   "source": [
    "torch.nn has all the basic building blocks to build graphs.\n",
    "\n",
    "Next, we will build the class for neural networks."
   ]
  },
  {
   "cell_type": "code",
   "execution_count": 12,
   "id": "dc3b9fa6",
   "metadata": {},
   "outputs": [],
   "source": [
    "class Net(nn.Module):\n",
    "    def __init__(self):\n",
    "        super().__init__() # super corresponds to nn.module and it's just initializing nn.module and everything related to it\n",
    "        self.fc1 = nn.Linear(784, 64) #fc1 just means fully connected, 784 is 28*28 is the input which will be a flat row of pixels\n",
    "        # our target is to make a 3 layers of 64 neurons for hidden layers, which is the output\n",
    "        self.fc2 = nn.Linear(64, 64)\n",
    "        self.fc3 = nn.Linear(64, 64)\n",
    "        self.fc4 = nn.Linear(64, 10)\n",
    "        \n",
    "    def forward(self, x): # for feed forward network with input x\n",
    "        x = F.relu(self.fc1(x)) # x will pass through fully connected layer 1, and we run the activation function over the entire layer\n",
    "        x = F.relu(self.fc2(x))\n",
    "        x = F.relu(self.fc3(x))\n",
    "        x = self.fc4(x)\n",
    "        \n",
    "        return F.log_softmax(x, dim = 1) # We apply softmax on the last layer to get a certain value as 1 corresponding to the digit\n",
    "    "
   ]
  },
  {
   "cell_type": "markdown",
   "id": "a2533042",
   "metadata": {},
   "source": [
    "We can throw logic in this forward method and dictate what to do accordingly.. also a lot of fancy things can be done with it."
   ]
  },
  {
   "cell_type": "markdown",
   "id": "38a0810f",
   "metadata": {},
   "source": [
    "### What is __init__ used for?\n",
    "\\_\\_init\\_\\_ just initializes all the attributes of the object. If you don't write \\_\\_init\\_\\_, you'll have to initialize all the attributes seperately by writting obj.atri1 = v1, obj.atri2 = v2 and so on.\n",
    "\n",
    "### What is super() used for?\n",
    "In the hierarchy of classes, there is a super class, and when we write super() we initialize all of it's attributes and functions for the attributes of our class.\n"
   ]
  },
  {
   "cell_type": "markdown",
   "id": "405a50e0",
   "metadata": {},
   "source": [
    "Now we can print and see the Net that we created"
   ]
  },
  {
   "cell_type": "code",
   "execution_count": 14,
   "id": "eb453170",
   "metadata": {},
   "outputs": [
    {
     "name": "stdout",
     "output_type": "stream",
     "text": [
      "Net(\n",
      "  (fc1): Linear(in_features=784, out_features=64, bias=True)\n",
      "  (fc2): Linear(in_features=64, out_features=64, bias=True)\n",
      "  (fc3): Linear(in_features=64, out_features=64, bias=True)\n",
      "  (fc4): Linear(in_features=64, out_features=10, bias=True)\n",
      ")\n"
     ]
    }
   ],
   "source": [
    "net = Net()\n",
    "\n",
    "print(net)"
   ]
  },
  {
   "cell_type": "markdown",
   "id": "832802e2",
   "metadata": {},
   "source": [
    "### Common Errors\n",
    "If we forgot to write super().\\_\\_init\\_\\_(), we will get the error: \"Attribute Error: cannot assign module before Module.\\_\\_init\\_\\_() call "
   ]
  },
  {
   "cell_type": "markdown",
   "id": "11669dc9",
   "metadata": {},
   "source": [
    "## Optimizer and Loss function\n",
    "Let's define optimizer and loss function for the model "
   ]
  },
  {
   "cell_type": "code",
   "execution_count": 17,
   "id": "4d6e7c25",
   "metadata": {},
   "outputs": [
    {
     "name": "stdout",
     "output_type": "stream",
     "text": [
      "tensor(0.0094, grad_fn=<NllLossBackward0>)\n",
      "tensor(5.6288e-05, grad_fn=<NllLossBackward0>)\n",
      "tensor(0.0013, grad_fn=<NllLossBackward0>)\n"
     ]
    }
   ],
   "source": [
    "import torch.optim as optim\n",
    "\n",
    "# Using Adam optimizer\n",
    "optimizer = optim.Adam(net.parameters(), lr = 0.001) # net.parameters() corresponds to everything that is adjustable in our model, lr is the learning rate\n",
    "\n",
    "EPOCHS = 3 # A full pass through the data is called an epoch\n",
    "for epoch in range(EPOCHS):\n",
    "    for data in trainset:\n",
    "        # data is a batch of featuresets and labels\n",
    "        X, y = data\n",
    "        net.zero_grad() # Do this everytime before you pass the data through the neural network, otherwise the gradients will keep on adding\n",
    "        output = net(X.view(-1, 28*28)) # -1 will tell the view that the size can be anythin, basically to satisfy what the Net requires as the tensor shape\n",
    "#         print(output)\n",
    "        loss = F.nll_loss(output, y) # If the data is a one hot vector form ([0, 0, 1, 0, 0]) then use nll_loss\n",
    "        # Now, we need to backpropogate the loss, we just write:\n",
    "        loss.backward()\n",
    "        optimizer.step() # This will adjust the steps for us\n",
    "    print(loss)"
   ]
  },
  {
   "cell_type": "markdown",
   "id": "2dbf726d",
   "metadata": {},
   "source": [
    "## Testing the data\n",
    "Moving on to the testing part, we use torch.no_grad() because we don't want to learn from that data"
   ]
  },
  {
   "cell_type": "code",
   "execution_count": 20,
   "id": "b1bde452",
   "metadata": {},
   "outputs": [
    {
     "name": "stdout",
     "output_type": "stream",
     "text": [
      "Accuracy:  0.974\n"
     ]
    }
   ],
   "source": [
    "correct = 0\n",
    "total = 0\n",
    "\n",
    "with torch.no_grad():\n",
    "    for data in testset:\n",
    "        X, y = data\n",
    "        output = net(X.view(-1, 28*28))\n",
    "        for idx, i in enumerate(output):\n",
    "            if torch.argmax(i) == y[idx]:\n",
    "                correct += 1\n",
    "            total += 1\n",
    "print('Accuracy: ', round(correct/total, 3))"
   ]
  },
  {
   "cell_type": "markdown",
   "id": "17be2700",
   "metadata": {},
   "source": [
    "Now let's just see what our model predicted for a given value"
   ]
  },
  {
   "cell_type": "code",
   "execution_count": 21,
   "id": "509d60d6",
   "metadata": {},
   "outputs": [
    {
     "data": {
      "text/plain": [
       "<matplotlib.image.AxesImage at 0x1e832a467c0>"
      ]
     },
     "execution_count": 21,
     "metadata": {},
     "output_type": "execute_result"
    },
    {
     "data": {
      "image/png": "[encoded data removed]",
      "text/plain": [
       "<Figure size 432x288 with 1 Axes>"
      ]
     },
     "metadata": {
      "needs_background": "light"
     },
     "output_type": "display_data"
    }
   ],
   "source": [
    "import matplotlib.pyplot as plt\n",
    "plt.imshow(X[0].view(28, 28))"
   ]
  },
  {
   "cell_type": "code",
   "execution_count": 22,
   "id": "0bb406cb",
   "metadata": {},
   "outputs": [
    {
     "name": "stdout",
     "output_type": "stream",
     "text": [
      "tensor(7)\n"
     ]
    }
   ],
   "source": [
    "print(torch.argmax(net(X.view(-1, 28*28))[0]))"
   ]
  },
  {
   "cell_type": "markdown",
   "id": "c0e945dd",
   "metadata": {},
   "source": [
    "Our model was able to predict 7 "
   ]
  }
 ],
 "metadata": {
  "kernelspec": {
   "display_name": "Python 3",
   "language": "python",
   "name": "python3"
  },
  "language_info": {
   "codemirror_mode": {
    "name": "ipython",
    "version": 3
   },
   "file_extension": ".py",
   "mimetype": "text/x-python",
   "name": "python",
   "nbconvert_exporter": "python",
   "pygments_lexer": "ipython3",
   "version": "3.8.8"
  }
 },
 "nbformat": 4,
 "nbformat_minor": 5
}
